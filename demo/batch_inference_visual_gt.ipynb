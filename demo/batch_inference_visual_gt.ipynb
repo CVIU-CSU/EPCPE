{
 "cells": [
  {
   "cell_type": "code",
   "execution_count": 50,
   "metadata": {},
   "outputs": [],
   "source": [
    "from mmdet.apis import init_detector, inference_detector\n",
    "from mmdet.utils import register_all_modules\n",
    "from mmdet.registry import VISUALIZERS\n",
    "import mmcv\n",
    "import _pickle as cPickle\n",
    "import os\n",
    "import numpy as np\n",
    "from mmdet.visualization.palette import get_palette\n",
    "from mmdet.visualization.utils.data_utils import get_K,get_bbox_conner,reproj_3d_2d\n",
    "import cv2"
   ]
  },
  {
   "cell_type": "code",
   "execution_count": 51,
   "metadata": {},
   "outputs": [],
   "source": [
    "# download the checkpoint demo\n",
    "#!mim download mmdet --config rtmdet_tiny_8xb32-300e_coco --dest ./checkpoints\n",
    "# config_file = '/root/userfolder/github/mmdetection/work_dirs/dab-detr_nocs_ViTAdapter_IOU_CRtrain_3enc_3dec_detachTS_expandgt/dab-detr_nocs_ViTAdapter_IOU_CRtrain_3enc_3dec.py'\n",
    "# checkpoint_file = '/root/userfolder/github/mmdetection/work_dirs/dab-detr_nocs_ViTAdapter_IOU_CRtrain_3enc_3dec_detachTS_expandgt/epoch_10.pth'\n",
    "config_file = '/root/userfolder/github/mmdetection/work_dirs/dab-detr_nocs_ViTDINO_Norm_CRtrain_3enc_3dec_2.12_8GPUS/dab-detr_nocs_ViTDINO_Norm_CRtrain_3enc_3dec.py'\n",
    "checkpoint_file = '/root/userfolder/github/mmdetection/work_dirs/dab-detr_nocs_ViTDINO_Norm_CRtrain_3enc_3dec_2.12_8GPUS/epoch_48.pth'\n",
    "# config_file = '/root/userfolder/github/mmdetection/work_dirs/dab-detr_sunrgbd_ViTDET_3enc_3dec_no_scale_1024_sam_preprocess_random_aug/dab-detr_sunrgbd_ViTDET_3enc_3dec_no_scale_1024_sam_preprocess_random_aug.py'\n",
    "# checkpoint_file = '/root/userfolder/github/mmdetection/work_dirs/dab-detr_sunrgbd_ViTDET_3enc_3dec_no_scale_1024_sam_preprocess_random_aug/epoch_800.pth'"
   ]
  },
  {
   "cell_type": "code",
   "execution_count": 52,
   "metadata": {},
   "outputs": [
    {
     "name": "stdout",
     "output_type": "stream",
     "text": [
      "Loads checkpoint by local backend from path: /root/userfolder/github/mmdetection/work_dirs/dab-detr_nocs_ViTDINO_Norm_CRtrain_3enc_3dec_2.12_8GPUS/epoch_48.pth\n"
     ]
    }
   ],
   "source": [
    "#Register all modules in mmdet into the registries\n",
    "register_all_modules()\n",
    "# build the model from a config file and a checkpoint file\n",
    "model = init_detector(config_file, checkpoint_file, device='cpu')  # or device='cpu' 'device:0'"
   ]
  },
  {
   "cell_type": "code",
   "execution_count": 53,
   "metadata": {},
   "outputs": [
    {
     "name": "stdout",
     "output_type": "stream",
     "text": [
      "['/root/commonfile/fxf/nocs/CAMERA/val/00000/0001_color.png', '/root/commonfile/fxf/nocs/CAMERA/val/00000/0005_color.png', '/root/commonfile/fxf/nocs/CAMERA/val/00005/0003_color.png', '/root/commonfile/fxf/nocs/CAMERA/val/00100/0001_color.png', '/root/commonfile/fxf/nocs/CAMERA/val/00100/0005_color.png', '/root/commonfile/fxf/nocs/CAMERA/val/00105/0003_color.png', '/root/commonfile/fxf/nocs/CAMERA/val/00200/0005_color.png', '/root/commonfile/fxf/nocs/CAMERA/val/00205/0003_color.png', '/root/commonfile/fxf/nocs/CAMERA/val/00300/0005_color.png', '/root/commonfile/fxf/nocs/CAMERA/val/00305/0003_color.png', '/root/commonfile/fxf/nocs/CAMERA/val/00400/0001_color.png', '/root/commonfile/fxf/nocs/CAMERA/val/00400/0005_color.png', '/root/commonfile/fxf/nocs/CAMERA/val/00405/0003_color.png', '/root/commonfile/fxf/nocs/CAMERA/val/00500/0001_color.png', '/root/commonfile/fxf/nocs/CAMERA/val/00500/0005_color.png', '/root/commonfile/fxf/nocs/CAMERA/val/00600/0001_color.png', '/root/commonfile/fxf/nocs/CAMERA/val/00600/0005_color.png', '/root/commonfile/fxf/nocs/CAMERA/val/00605/0003_color.png', '/root/commonfile/fxf/nocs/CAMERA/val/00700/0001_color.png', '/root/commonfile/fxf/nocs/CAMERA/val/00700/0005_color.png', '/root/commonfile/fxf/nocs/CAMERA/val/00705/0003_color.png', '/root/commonfile/fxf/nocs/CAMERA/val/00800/0001_color.png', '/root/commonfile/fxf/nocs/CAMERA/val/00800/0005_color.png', '/root/commonfile/fxf/nocs/CAMERA/val/00805/0003_color.png', '/root/commonfile/fxf/nocs/CAMERA/val/00900/0001_color.png', '/root/commonfile/fxf/nocs/CAMERA/val/01000/0001_color.png', '/root/commonfile/fxf/nocs/CAMERA/val/01000/0005_color.png', '/root/commonfile/fxf/nocs/CAMERA/val/01005/0003_color.png', '/root/commonfile/fxf/nocs/CAMERA/val/01100/0001_color.png', '/root/commonfile/fxf/nocs/CAMERA/val/01100/0005_color.png', '/root/commonfile/fxf/nocs/CAMERA/val/01200/0005_color.png', '/root/commonfile/fxf/nocs/CAMERA/val/01205/0003_color.png', '/root/commonfile/fxf/nocs/CAMERA/val/01300/0001_color.png', '/root/commonfile/fxf/nocs/CAMERA/val/01300/0005_color.png', '/root/commonfile/fxf/nocs/CAMERA/val/01400/0001_color.png', '/root/commonfile/fxf/nocs/CAMERA/val/01405/0003_color.png', '/root/commonfile/fxf/nocs/CAMERA/val/01505/0003_color.png', '/root/commonfile/fxf/nocs/CAMERA/val/01605/0003_color.png', '/root/commonfile/fxf/nocs/CAMERA/val/01705/0003_color.png', '/root/commonfile/fxf/nocs/CAMERA/val/01800/0005_color.png', '/root/commonfile/fxf/nocs/CAMERA/val/01805/0003_color.png', '/root/commonfile/fxf/nocs/CAMERA/val/01900/0001_color.png', '/root/commonfile/fxf/nocs/CAMERA/val/01900/0005_color.png', '/root/commonfile/fxf/nocs/CAMERA/val/01905/0003_color.png', '/root/commonfile/fxf/nocs/CAMERA/val/02000/0005_color.png', '/root/commonfile/fxf/nocs/CAMERA/val/02005/0003_color.png', '/root/commonfile/fxf/nocs/CAMERA/val/02100/0001_color.png', '/root/commonfile/fxf/nocs/CAMERA/val/02105/0003_color.png', '/root/commonfile/fxf/nocs/CAMERA/val/02200/0001_color.png', '/root/commonfile/fxf/nocs/CAMERA/val/02205/0003_color.png', '/root/commonfile/fxf/nocs/CAMERA/val/02300/0001_color.png', '/root/commonfile/fxf/nocs/CAMERA/val/02305/0003_color.png', '/root/commonfile/fxf/nocs/CAMERA/val/02400/0001_color.png', '/root/commonfile/fxf/nocs/CAMERA/val/02400/0005_color.png']\n",
      "['val000000001vis.png', 'val000000005vis.png', 'val000050003vis.png', 'val001000001vis.png', 'val001000005vis.png', 'val001050003vis.png', 'val002000005vis.png', 'val002050003vis.png', 'val003000005vis.png', 'val003050003vis.png', 'val004000001vis.png', 'val004000005vis.png', 'val004050003vis.png', 'val005000001vis.png', 'val005000005vis.png', 'val006000001vis.png', 'val006000005vis.png', 'val006050003vis.png', 'val007000001vis.png', 'val007000005vis.png', 'val007050003vis.png', 'val008000001vis.png', 'val008000005vis.png', 'val008050003vis.png', 'val009000001vis.png', 'val010000001vis.png', 'val010000005vis.png', 'val010050003vis.png', 'val011000001vis.png', 'val011000005vis.png', 'val012000005vis.png', 'val012050003vis.png', 'val013000001vis.png', 'val013000005vis.png', 'val014000001vis.png', 'val014050003vis.png', 'val015050003vis.png', 'val016050003vis.png', 'val017050003vis.png', 'val018000005vis.png', 'val018050003vis.png', 'val019000001vis.png', 'val019000005vis.png', 'val019050003vis.png', 'val020000005vis.png', 'val020050003vis.png', 'val021000001vis.png', 'val021050003vis.png', 'val022000001vis.png', 'val022050003vis.png', 'val023000001vis.png', 'val023050003vis.png', 'val024000001vis.png', 'val024000005vis.png']\n",
      "['/root/commonfile/fxf/nocs/CAMERA/val/00000/0001_label.pkl', '/root/commonfile/fxf/nocs/CAMERA/val/00000/0005_label.pkl', '/root/commonfile/fxf/nocs/CAMERA/val/00005/0003_label.pkl', '/root/commonfile/fxf/nocs/CAMERA/val/00100/0001_label.pkl', '/root/commonfile/fxf/nocs/CAMERA/val/00100/0005_label.pkl', '/root/commonfile/fxf/nocs/CAMERA/val/00105/0003_label.pkl', '/root/commonfile/fxf/nocs/CAMERA/val/00200/0005_label.pkl', '/root/commonfile/fxf/nocs/CAMERA/val/00205/0003_label.pkl', '/root/commonfile/fxf/nocs/CAMERA/val/00300/0005_label.pkl', '/root/commonfile/fxf/nocs/CAMERA/val/00305/0003_label.pkl', '/root/commonfile/fxf/nocs/CAMERA/val/00400/0001_label.pkl', '/root/commonfile/fxf/nocs/CAMERA/val/00400/0005_label.pkl', '/root/commonfile/fxf/nocs/CAMERA/val/00405/0003_label.pkl', '/root/commonfile/fxf/nocs/CAMERA/val/00500/0001_label.pkl', '/root/commonfile/fxf/nocs/CAMERA/val/00500/0005_label.pkl', '/root/commonfile/fxf/nocs/CAMERA/val/00600/0001_label.pkl', '/root/commonfile/fxf/nocs/CAMERA/val/00600/0005_label.pkl', '/root/commonfile/fxf/nocs/CAMERA/val/00605/0003_label.pkl', '/root/commonfile/fxf/nocs/CAMERA/val/00700/0001_label.pkl', '/root/commonfile/fxf/nocs/CAMERA/val/00700/0005_label.pkl', '/root/commonfile/fxf/nocs/CAMERA/val/00705/0003_label.pkl', '/root/commonfile/fxf/nocs/CAMERA/val/00800/0001_label.pkl', '/root/commonfile/fxf/nocs/CAMERA/val/00800/0005_label.pkl', '/root/commonfile/fxf/nocs/CAMERA/val/00805/0003_label.pkl', '/root/commonfile/fxf/nocs/CAMERA/val/00900/0001_label.pkl', '/root/commonfile/fxf/nocs/CAMERA/val/01000/0001_label.pkl', '/root/commonfile/fxf/nocs/CAMERA/val/01000/0005_label.pkl', '/root/commonfile/fxf/nocs/CAMERA/val/01005/0003_label.pkl', '/root/commonfile/fxf/nocs/CAMERA/val/01100/0001_label.pkl', '/root/commonfile/fxf/nocs/CAMERA/val/01100/0005_label.pkl', '/root/commonfile/fxf/nocs/CAMERA/val/01200/0005_label.pkl', '/root/commonfile/fxf/nocs/CAMERA/val/01205/0003_label.pkl', '/root/commonfile/fxf/nocs/CAMERA/val/01300/0001_label.pkl', '/root/commonfile/fxf/nocs/CAMERA/val/01300/0005_label.pkl', '/root/commonfile/fxf/nocs/CAMERA/val/01400/0001_label.pkl', '/root/commonfile/fxf/nocs/CAMERA/val/01405/0003_label.pkl', '/root/commonfile/fxf/nocs/CAMERA/val/01505/0003_label.pkl', '/root/commonfile/fxf/nocs/CAMERA/val/01605/0003_label.pkl', '/root/commonfile/fxf/nocs/CAMERA/val/01705/0003_label.pkl', '/root/commonfile/fxf/nocs/CAMERA/val/01800/0005_label.pkl', '/root/commonfile/fxf/nocs/CAMERA/val/01805/0003_label.pkl', '/root/commonfile/fxf/nocs/CAMERA/val/01900/0001_label.pkl', '/root/commonfile/fxf/nocs/CAMERA/val/01900/0005_label.pkl', '/root/commonfile/fxf/nocs/CAMERA/val/01905/0003_label.pkl', '/root/commonfile/fxf/nocs/CAMERA/val/02000/0005_label.pkl', '/root/commonfile/fxf/nocs/CAMERA/val/02005/0003_label.pkl', '/root/commonfile/fxf/nocs/CAMERA/val/02100/0001_label.pkl', '/root/commonfile/fxf/nocs/CAMERA/val/02105/0003_label.pkl', '/root/commonfile/fxf/nocs/CAMERA/val/02200/0001_label.pkl', '/root/commonfile/fxf/nocs/CAMERA/val/02205/0003_label.pkl', '/root/commonfile/fxf/nocs/CAMERA/val/02300/0001_label.pkl', '/root/commonfile/fxf/nocs/CAMERA/val/02305/0003_label.pkl', '/root/commonfile/fxf/nocs/CAMERA/val/02400/0001_label.pkl', '/root/commonfile/fxf/nocs/CAMERA/val/02400/0005_label.pkl']\n"
     ]
    }
   ],
   "source": [
    "# data_root = '/root/commonfile/fxf/nocs/Real/'\n",
    "# file = 'test_list.txt'\n",
    "# visual_list = []\n",
    "# out_file_list = []\n",
    "# gt_result_list = []\n",
    "# img_list_file = open(os.path.join(data_root,file),'r')\n",
    "# img_list = img_list_file.read().splitlines()\n",
    "# for img_dir in img_list:\n",
    "#     if img_dir.endswith('00') or img_dir.endswith('50'):\n",
    "#         visual_list.append(os.path.join(data_root,img_dir)+\"_color.png\")\n",
    "#         out_file_list.append(img_dir.replace('/','')+\"vis.png\")\n",
    "#         gt_result_list.append(os.path.join(data_root,img_dir)+\"_label.pkl\")\n",
    "# print(visual_list)\n",
    "# print(out_file_list)\n",
    "# print(gt_result_list)\n",
    "\n",
    "\n",
    "data_root = '/root/commonfile/fxf/nocs/CAMERA/'\n",
    "file = 'val_list.txt'\n",
    "visual_list = []\n",
    "out_file_list = []\n",
    "gt_result_list = []\n",
    "img_list_file = open(os.path.join(data_root,file),'r')\n",
    "img_list = img_list_file.read().splitlines()\n",
    "for img_dir in img_list:\n",
    "    if img_dir.endswith('00/0001') or img_dir.endswith('00/0005') or img_dir.endswith('05/0003'):\n",
    "        visual_list.append(os.path.join(data_root,img_dir)+\"_color.png\")\n",
    "        out_file_list.append(img_dir.replace('/','')+\"vis.png\")\n",
    "        gt_result_list.append(os.path.join(data_root,img_dir)+\"_label.pkl\")\n",
    "print(visual_list)\n",
    "print(out_file_list)\n",
    "print(gt_result_list)\n"
   ]
  },
  {
   "cell_type": "code",
   "execution_count": 54,
   "metadata": {},
   "outputs": [
    {
     "name": "stdout",
     "output_type": "stream",
     "text": [
      "{'class_ids': array([2, 5, 1]), 'bboxes': array([[316, 101, 389, 195],\n",
      "       [ 78, 300, 182, 443],\n",
      "       [147, 305, 243, 348]], dtype=int32), 'instance_ids': [1, 2, 3], 'model_list': ['fa23aa60ec51c8e4c40fe5637f0a27e1', 'ed35ed3a7c8824e5996bace9c8deb982', 'de71aa5eca9ee76a95f577622f465c85'], 'size': array([[0.67827987, 0.271874  , 0.67331217],\n",
      "       [0.516162  , 0.49778965, 0.696674  ],\n",
      "       [0.38047369, 0.84947   , 0.36217291]]), 'scales': array([0.2020867 , 0.40790707, 0.236136  ], dtype=float32), 'rotations': array([[[-0.86041325, -0.00431592, -0.50957865],\n",
      "        [ 0.3146541 , -0.79107594, -0.5245871 ],\n",
      "        [-0.40085134, -0.6117027 ,  0.6820103 ]],\n",
      "\n",
      "       [[-0.51387316, -0.00310924,  0.85786057],\n",
      "        [-0.52443564, -0.7902353 , -0.31701007],\n",
      "        [ 0.6788974 , -0.6127956 ,  0.4044501 ]],\n",
      "\n",
      "       [[-0.4467234 , -0.0045775 ,  0.8946604 ],\n",
      "        [-0.5456057 , -0.7911213 , -0.27648056],\n",
      "        [ 0.70905054, -0.6116421 ,  0.3509149 ]]], dtype=float32), 'translations': array([[-0.2573083 ,  0.18540454,  0.8839415 ],\n",
      "       [ 0.11727308, -0.30799022,  1.4185884 ],\n",
      "       [ 0.01373804, -0.09733034,  1.146952  ]], dtype=float32), 'poses': array([[[-1.73878074e-01, -8.72189412e-04, -1.02979064e-01,\n",
      "         -2.57308304e-01],\n",
      "        [ 6.35874122e-02, -1.59865931e-01, -1.06012069e-01,\n",
      "          1.85404539e-01],\n",
      "        [-8.10067207e-02, -1.23616979e-01,  1.37825206e-01,\n",
      "          8.83941472e-01],\n",
      "        [ 0.00000000e+00,  0.00000000e+00,  0.00000000e+00,\n",
      "          1.00000000e+00]],\n",
      "\n",
      "       [[-2.09612489e-01, -1.26828288e-03,  3.49927396e-01,\n",
      "          1.17273085e-01],\n",
      "        [-2.13921010e-01, -3.22342575e-01, -1.29310653e-01,\n",
      "         -3.07990223e-01],\n",
      "        [ 2.76927054e-01, -2.49963671e-01,  1.64978057e-01,\n",
      "          1.41858840e+00],\n",
      "        [ 0.00000000e+00,  0.00000000e+00,  0.00000000e+00,\n",
      "          1.00000000e+00]],\n",
      "\n",
      "       [[-1.05487473e-01, -1.08091289e-03,  2.11261526e-01,\n",
      "          1.37380380e-02],\n",
      "        [-1.28837153e-01, -1.86812222e-01, -6.52870089e-02,\n",
      "         -9.73303393e-02],\n",
      "        [ 1.67432353e-01, -1.44430727e-01,  8.28636363e-02,\n",
      "          1.14695203e+00],\n",
      "        [ 0.00000000e+00,  0.00000000e+00,  0.00000000e+00,\n",
      "          1.00000000e+00]]], dtype=float32), 'handle_visibility': array([1, 1, 1])}\n"
     ]
    }
   ],
   "source": [
    "# test a single image\n",
    "#img = mmcv.imread( '/root/commonfile/fxf/nocs/Real/train/scene_2/0000_color.png', channel_order='rgb')\n",
    "#img = mmcv.imread( '/root/commonfile/fxf/nocs/CAMERA/val/00007/0002_color.png', channel_order='rgb')\n",
    "#img = mmcv.imread( '/root/commonfile/fxf/nocs/Real/test/scene_1/0000_color.png', channel_order='rgb')\n",
    "#img = mmcv.imread( '/root/commonfile/fxf/sunrgbd/sunrgbd_trainval/image/008000.jpg', channel_order='rgb')\n",
    "img_list=[]\n",
    "result_list=[]\n",
    "for visual_dir,gt_result_dir in zip(visual_list,gt_result_list):\n",
    "    img = cv2.imread( visual_dir)\n",
    "    with open (gt_result_dir,'rb') as f:\n",
    "        gt_labels=cPickle.load(f)\n",
    "    img_list.append(img)\n",
    "    result_list.append(gt_labels)\n",
    "print(gt_labels)\n",
    "    "
   ]
  },
  {
   "cell_type": "code",
   "execution_count": 55,
   "metadata": {},
   "outputs": [],
   "source": [
    "# # init the visualizer(execute this block only once)\n",
    "# visualizer = VISUALIZERS.build(model.cfg.visualizer)\n",
    "# # the dataset_meta is loaded from the checkpoint and\n",
    "# # then pass to the model in init_detector\n",
    "palette = model.dataset_meta.get('palette', None)\n",
    "classes = model.dataset_meta.get('classes', None)"
   ]
  },
  {
   "cell_type": "code",
   "execution_count": 56,
   "metadata": {},
   "outputs": [],
   "source": [
    "# show the results\n",
    "for img,result,out_file in zip(img_list,result_list,out_file_list):\n",
    "    # print(img)\n",
    "    # print(result)\n",
    "    # visualizer.add_datasample(\n",
    "    #     'result',\n",
    "    #     img,\n",
    "    #     data_sample=result,\n",
    "    #     draw_gt=False,\n",
    "    #     wait_time=0,\n",
    "    #     pred_score_thr=0.2,\n",
    "    #     out_file=out_file,\n",
    "    # )\n",
    "    img_result=img\n",
    "    nocs_camera_intrinsics = [577.5, 577.5, 319.5, 239.5]\n",
    "    nocs_real_intrinsics = [591.0125, 590.16775, 322.525, 244.11084]\n",
    "    fx, fy, cx, cy = nocs_camera_intrinsics\n",
    "    fx, fy, cx, cy = nocs_real_intrinsics\n",
    "    K = np.array([\n",
    "        [fx, 0, cx],\n",
    "        [0, fy, cy],\n",
    "        [0,  0,  1]\n",
    "    ])\n",
    "    rotations = result['rotations']\n",
    "    scales = result['scales'].reshape(-1,1)\n",
    "    positions = result['translations']\n",
    "    labels = result['class_ids']\n",
    "    sizes = result['size']\n",
    "    sizes = np.multiply(sizes,scales)\n",
    "    bboxes = result['bboxes']\n",
    "\n",
    "    bbox_color = palette\n",
    "    max_label = int(max(labels) if len(labels) > 0 else 0)\n",
    "    bbox_palette = get_palette(bbox_color, max_label + 10)\n",
    "\n",
    "    for rot,pos,label,size,bbox in zip (rotations,positions,labels,sizes,bboxes):\n",
    "        # print(rot,pos,label)\n",
    "        label=label-1\n",
    "        label_text = classes[label]\n",
    "        colors = bbox_palette[label]\n",
    "        #bbox_size=class_annotations[str(label.item())][\"scales\"]['0'] #获取bbox的大小从而获取角点位置\n",
    "        bbox_size=size\n",
    "        # x,y,z=size #预测的bboox size更加准确\n",
    "        # bbox_size=[z,y,x] #for omni3d\n",
    "        bbox_conner=get_bbox_conner(bbox_size)\n",
    "        pose_R = rot.reshape(3,3)\n",
    "        pose_T = pos.reshape(3,1)\n",
    "        pose_RT=np.concatenate([pose_R,pose_T],axis=-1)\n",
    "        reproj_box_2d = reproj_3d_2d(K, pose_RT, bbox_conner)\n",
    "        # print(reproj_box_2d)\n",
    "        # print('draw_3d_box')\n",
    "        lines = np.array([\n",
    "            [0, 1, 5, 4, 2, 3, 7, 6, 2, 2, 3, 7],\n",
    "            [1, 5, 4, 0, 3, 0, 6, 5, 1, 6, 7, 4]\n",
    "        ]).T\n",
    "\n",
    "        font=cv2.FONT_HERSHEY_SIMPLEX\n",
    "        font_scale=0.55\n",
    "        thickness = 1\n",
    "        retval, baseLine =cv2.getTextSize(label_text, font, font_scale, thickness)\n",
    "        topleft = (bbox[1]-15, bbox[0] - retval[1]-5)\n",
    "        bottomright = (topleft[0] + retval[0], topleft[1] + retval[1])\n",
    "\n",
    "        cv2.rectangle(img_result, (topleft[0], topleft[1] - baseLine), bottomright,thickness=-1, color=(0,0,0))\n",
    "        \n",
    "        for id, line in enumerate(lines):\n",
    "            pt1 = reproj_box_2d[line[0]].astype(int)\n",
    "            pt2 = reproj_box_2d[line[1]].astype(int)\n",
    "            cv2.line(img_result, tuple(pt1), tuple(pt2), colors, 2)\n",
    "\n",
    "        cv2.putText(img_result,label_text,org=(bbox[1]-15,bbox[0]-10),\n",
    "                    fontFace=font,fontScale=font_scale,color=(224,224,224),thickness=thickness)\n",
    "        \n",
    "    cv2.imwrite(filename=out_file,img=img_result)\n",
    "                \n",
    "\n",
    "\n"
   ]
  }
 ],
 "metadata": {
  "kernelspec": {
   "display_name": "Python 3.8.15 ('openmmlab': conda)",
   "language": "python",
   "name": "python3"
  },
  "language_info": {
   "codemirror_mode": {
    "name": "ipython",
    "version": 3
   },
   "file_extension": ".py",
   "mimetype": "text/x-python",
   "name": "python",
   "nbconvert_exporter": "python",
   "pygments_lexer": "ipython3",
   "version": "3.8.16"
  },
  "pycharm": {
   "stem_cell": {
    "cell_type": "raw",
    "metadata": {
     "collapsed": false
    },
    "source": []
   }
  },
  "vscode": {
   "interpreter": {
    "hash": "123f04cf90f98f4e024f938b1740494610690a92229e8583e776f0b18781a6d7"
   }
  }
 },
 "nbformat": 4,
 "nbformat_minor": 4
}
